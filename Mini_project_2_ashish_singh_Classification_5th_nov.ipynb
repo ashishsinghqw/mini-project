{
 "cells": [
  {
   "cell_type": "code",
   "execution_count": 1,
   "id": "566e6db8",
   "metadata": {},
   "outputs": [],
   "source": [
    "import pandas as pd \n",
    "import numpy as np"
   ]
  },
  {
   "cell_type": "code",
   "execution_count": 2,
   "id": "c78b1b5e",
   "metadata": {},
   "outputs": [],
   "source": [
    "data = pd.read_csv(\"./Dry_Bean.csv\")"
   ]
  },
  {
   "cell_type": "code",
   "execution_count": 3,
   "id": "4af0f9be",
   "metadata": {},
   "outputs": [
    {
     "data": {
      "text/html": [
       "<div>\n",
       "<style scoped>\n",
       "    .dataframe tbody tr th:only-of-type {\n",
       "        vertical-align: middle;\n",
       "    }\n",
       "\n",
       "    .dataframe tbody tr th {\n",
       "        vertical-align: top;\n",
       "    }\n",
       "\n",
       "    .dataframe thead th {\n",
       "        text-align: right;\n",
       "    }\n",
       "</style>\n",
       "<table border=\"1\" class=\"dataframe\">\n",
       "  <thead>\n",
       "    <tr style=\"text-align: right;\">\n",
       "      <th></th>\n",
       "      <th>Area</th>\n",
       "      <th>Perimeter</th>\n",
       "      <th>MajorAxisLength</th>\n",
       "      <th>MinorAxisLength</th>\n",
       "      <th>AspectRation</th>\n",
       "      <th>Eccentricity</th>\n",
       "      <th>ConvexArea</th>\n",
       "      <th>EquivDiameter</th>\n",
       "      <th>Extent</th>\n",
       "      <th>Solidity</th>\n",
       "      <th>roundness</th>\n",
       "      <th>Compactness</th>\n",
       "      <th>ShapeFactor1</th>\n",
       "      <th>ShapeFactor2</th>\n",
       "      <th>ShapeFactor3</th>\n",
       "      <th>ShapeFactor4</th>\n",
       "      <th>Class</th>\n",
       "    </tr>\n",
       "  </thead>\n",
       "  <tbody>\n",
       "    <tr>\n",
       "      <th>0</th>\n",
       "      <td>28395</td>\n",
       "      <td>610.291</td>\n",
       "      <td>208.178117</td>\n",
       "      <td>173.888747</td>\n",
       "      <td>1.197191</td>\n",
       "      <td>0.549812</td>\n",
       "      <td>28715</td>\n",
       "      <td>190.141097</td>\n",
       "      <td>0.763923</td>\n",
       "      <td>0.988856</td>\n",
       "      <td>0.958027</td>\n",
       "      <td>0.913358</td>\n",
       "      <td>0.007332</td>\n",
       "      <td>0.003147</td>\n",
       "      <td>0.834222</td>\n",
       "      <td>0.998724</td>\n",
       "      <td>SEKER</td>\n",
       "    </tr>\n",
       "    <tr>\n",
       "      <th>1</th>\n",
       "      <td>28734</td>\n",
       "      <td>638.018</td>\n",
       "      <td>200.524796</td>\n",
       "      <td>182.734419</td>\n",
       "      <td>1.097356</td>\n",
       "      <td>0.411785</td>\n",
       "      <td>29172</td>\n",
       "      <td>191.272751</td>\n",
       "      <td>0.783968</td>\n",
       "      <td>0.984986</td>\n",
       "      <td>0.887034</td>\n",
       "      <td>0.953861</td>\n",
       "      <td>0.006979</td>\n",
       "      <td>0.003564</td>\n",
       "      <td>0.909851</td>\n",
       "      <td>0.998430</td>\n",
       "      <td>SEKER</td>\n",
       "    </tr>\n",
       "    <tr>\n",
       "      <th>2</th>\n",
       "      <td>29380</td>\n",
       "      <td>624.110</td>\n",
       "      <td>212.826130</td>\n",
       "      <td>175.931143</td>\n",
       "      <td>1.209713</td>\n",
       "      <td>0.562727</td>\n",
       "      <td>29690</td>\n",
       "      <td>193.410904</td>\n",
       "      <td>0.778113</td>\n",
       "      <td>0.989559</td>\n",
       "      <td>0.947849</td>\n",
       "      <td>0.908774</td>\n",
       "      <td>0.007244</td>\n",
       "      <td>0.003048</td>\n",
       "      <td>0.825871</td>\n",
       "      <td>0.999066</td>\n",
       "      <td>SEKER</td>\n",
       "    </tr>\n",
       "    <tr>\n",
       "      <th>3</th>\n",
       "      <td>30008</td>\n",
       "      <td>645.884</td>\n",
       "      <td>210.557999</td>\n",
       "      <td>182.516516</td>\n",
       "      <td>1.153638</td>\n",
       "      <td>0.498616</td>\n",
       "      <td>30724</td>\n",
       "      <td>195.467062</td>\n",
       "      <td>0.782681</td>\n",
       "      <td>0.976696</td>\n",
       "      <td>0.903936</td>\n",
       "      <td>0.928329</td>\n",
       "      <td>0.007017</td>\n",
       "      <td>0.003215</td>\n",
       "      <td>0.861794</td>\n",
       "      <td>0.994199</td>\n",
       "      <td>SEKER</td>\n",
       "    </tr>\n",
       "    <tr>\n",
       "      <th>4</th>\n",
       "      <td>30140</td>\n",
       "      <td>620.134</td>\n",
       "      <td>201.847882</td>\n",
       "      <td>190.279279</td>\n",
       "      <td>1.060798</td>\n",
       "      <td>0.333680</td>\n",
       "      <td>30417</td>\n",
       "      <td>195.896503</td>\n",
       "      <td>0.773098</td>\n",
       "      <td>0.990893</td>\n",
       "      <td>0.984877</td>\n",
       "      <td>0.970516</td>\n",
       "      <td>0.006697</td>\n",
       "      <td>0.003665</td>\n",
       "      <td>0.941900</td>\n",
       "      <td>0.999166</td>\n",
       "      <td>SEKER</td>\n",
       "    </tr>\n",
       "  </tbody>\n",
       "</table>\n",
       "</div>"
      ],
      "text/plain": [
       "    Area  Perimeter  MajorAxisLength  MinorAxisLength  AspectRation  \\\n",
       "0  28395    610.291       208.178117       173.888747      1.197191   \n",
       "1  28734    638.018       200.524796       182.734419      1.097356   \n",
       "2  29380    624.110       212.826130       175.931143      1.209713   \n",
       "3  30008    645.884       210.557999       182.516516      1.153638   \n",
       "4  30140    620.134       201.847882       190.279279      1.060798   \n",
       "\n",
       "   Eccentricity  ConvexArea  EquivDiameter    Extent  Solidity  roundness  \\\n",
       "0      0.549812       28715     190.141097  0.763923  0.988856   0.958027   \n",
       "1      0.411785       29172     191.272751  0.783968  0.984986   0.887034   \n",
       "2      0.562727       29690     193.410904  0.778113  0.989559   0.947849   \n",
       "3      0.498616       30724     195.467062  0.782681  0.976696   0.903936   \n",
       "4      0.333680       30417     195.896503  0.773098  0.990893   0.984877   \n",
       "\n",
       "   Compactness  ShapeFactor1  ShapeFactor2  ShapeFactor3  ShapeFactor4  Class  \n",
       "0     0.913358      0.007332      0.003147      0.834222      0.998724  SEKER  \n",
       "1     0.953861      0.006979      0.003564      0.909851      0.998430  SEKER  \n",
       "2     0.908774      0.007244      0.003048      0.825871      0.999066  SEKER  \n",
       "3     0.928329      0.007017      0.003215      0.861794      0.994199  SEKER  \n",
       "4     0.970516      0.006697      0.003665      0.941900      0.999166  SEKER  "
      ]
     },
     "execution_count": 3,
     "metadata": {},
     "output_type": "execute_result"
    }
   ],
   "source": [
    "data.head()"
   ]
  },
  {
   "cell_type": "code",
   "execution_count": 4,
   "id": "019193a2",
   "metadata": {},
   "outputs": [
    {
     "name": "stdout",
     "output_type": "stream",
     "text": [
      "<class 'pandas.core.frame.DataFrame'>\n",
      "RangeIndex: 13611 entries, 0 to 13610\n",
      "Data columns (total 17 columns):\n",
      " #   Column           Non-Null Count  Dtype  \n",
      "---  ------           --------------  -----  \n",
      " 0   Area             13611 non-null  int64  \n",
      " 1   Perimeter        13611 non-null  float64\n",
      " 2   MajorAxisLength  13611 non-null  float64\n",
      " 3   MinorAxisLength  13611 non-null  float64\n",
      " 4   AspectRation     13611 non-null  float64\n",
      " 5   Eccentricity     13611 non-null  float64\n",
      " 6   ConvexArea       13611 non-null  int64  \n",
      " 7   EquivDiameter    13611 non-null  float64\n",
      " 8   Extent           13611 non-null  float64\n",
      " 9   Solidity         13611 non-null  float64\n",
      " 10  roundness        13611 non-null  float64\n",
      " 11  Compactness      13611 non-null  float64\n",
      " 12  ShapeFactor1     13611 non-null  float64\n",
      " 13  ShapeFactor2     13611 non-null  float64\n",
      " 14  ShapeFactor3     13611 non-null  float64\n",
      " 15  ShapeFactor4     13611 non-null  float64\n",
      " 16  Class            13611 non-null  object \n",
      "dtypes: float64(14), int64(2), object(1)\n",
      "memory usage: 1.8+ MB\n"
     ]
    }
   ],
   "source": [
    "data.info()"
   ]
  },
  {
   "cell_type": "markdown",
   "id": "b3f96960",
   "metadata": {},
   "source": [
    "## Splitting the Data into Dependent and Independent Variables"
   ]
  },
  {
   "cell_type": "code",
   "execution_count": 5,
   "id": "9e6d6f28",
   "metadata": {},
   "outputs": [],
   "source": [
    "x = data.drop(['Class'], axis=1)\n",
    "y= data.Class"
   ]
  },
  {
   "cell_type": "markdown",
   "id": "94ab7900",
   "metadata": {},
   "source": [
    "## Feature Importance "
   ]
  },
  {
   "cell_type": "code",
   "execution_count": 6,
   "id": "6a1019ae",
   "metadata": {},
   "outputs": [
    {
     "name": "stdout",
     "output_type": "stream",
     "text": [
      "[0.06316307 0.07917899 0.06358933 0.07906215 0.07773042 0.05960891\n",
      " 0.06559505 0.07187453 0.01328558 0.01714466 0.06380703 0.0845612\n",
      " 0.08144706 0.07785266 0.07413415 0.02796521]\n"
     ]
    }
   ],
   "source": [
    "from sklearn.ensemble import ExtraTreesClassifier\n",
    "model = ExtraTreesClassifier()\n",
    "model.fit(x,y)\n",
    "print(model.feature_importances_)"
   ]
  },
  {
   "cell_type": "code",
   "execution_count": 7,
   "id": "d6d74f48",
   "metadata": {},
   "outputs": [
    {
     "data": {
      "text/plain": [
       "<AxesSubplot:>"
      ]
     },
     "execution_count": 7,
     "metadata": {},
     "output_type": "execute_result"
    },
    {
     "data": {
      "image/png": "[encoded data removed]",
      "text/plain": [
       "<Figure size 432x288 with 1 Axes>"
      ]
     },
     "metadata": {
      "needs_background": "light"
     },
     "output_type": "display_data"
    }
   ],
   "source": [
    "feat_imp = pd.Series(model.feature_importances_, index=x.columns)\n",
    "feat_imp.nlargest(7).plot(kind='barh')"
   ]
  },
  {
   "cell_type": "markdown",
   "id": "4631ba90",
   "metadata": {},
   "source": [
    "## Training and Testing the data"
   ]
  },
  {
   "cell_type": "code",
   "execution_count": 8,
   "id": "ca2cad63",
   "metadata": {},
   "outputs": [],
   "source": [
    "from sklearn.model_selection import train_test_split"
   ]
  },
  {
   "cell_type": "code",
   "execution_count": 9,
   "id": "7286de4b",
   "metadata": {},
   "outputs": [],
   "source": [
    "x_train, x_test, y_train, y_test = train_test_split(x, y, test_size=0.3, random_state=15)"
   ]
  },
  {
   "cell_type": "code",
   "execution_count": 10,
   "id": "d320025f",
   "metadata": {},
   "outputs": [],
   "source": [
    "from sklearn.linear_model import LogisticRegression \n",
    "from sklearn.tree import DecisionTreeClassifier\n",
    "from sklearn.neighbors import KNeighborsClassifier\n",
    "from sklearn.ensemble import RandomForestClassifier\n",
    "from sklearn.metrics import confusion_matrix, accuracy_score, classification_report"
   ]
  },
  {
   "cell_type": "markdown",
   "id": "33acbae7",
   "metadata": {},
   "source": [
    "## Logistic Regression"
   ]
  },
  {
   "cell_type": "code",
   "execution_count": 11,
   "id": "aecd0d2d",
   "metadata": {},
   "outputs": [
    {
     "data": {
      "text/plain": [
       "LogisticRegression(n_jobs=5, random_state=20)"
      ]
     },
     "execution_count": 11,
     "metadata": {},
     "output_type": "execute_result"
    }
   ],
   "source": [
    "lm = LogisticRegression(random_state=20, n_jobs=5)\n",
    "lm.fit(x_train, y_train)"
   ]
  },
  {
   "cell_type": "markdown",
   "id": "a26521b5",
   "metadata": {},
   "source": [
    "## Prediction"
   ]
  },
  {
   "cell_type": "code",
   "execution_count": 12,
   "id": "d4051a92",
   "metadata": {},
   "outputs": [],
   "source": [
    "ypred_train = lm.predict(x_train)\n",
    "ypred_test = lm.predict(x_test)"
   ]
  },
  {
   "cell_type": "markdown",
   "id": "c8200847",
   "metadata": {},
   "source": [
    "## Confusion Matrix"
   ]
  },
  {
   "cell_type": "code",
   "execution_count": 13,
   "id": "7dd07ecd",
   "metadata": {},
   "outputs": [
    {
     "data": {
      "text/plain": [
       "array([[213,   0, 113,   0,  69,   0,   4],\n",
       "       [  0, 143,   2,   0,   0,   0,   0],\n",
       "       [102,   0, 380,   0,  14,   3,   1],\n",
       "       [  0,   0,   0, 914,   7,  41,  81],\n",
       "       [ 13,   0,  26,  24, 329,   9, 184],\n",
       "       [  0,   0,   0, 137,  13, 375,  84],\n",
       "       [  3,   0,   0,  59, 129, 116, 496]], dtype=int64)"
      ]
     },
     "execution_count": 13,
     "metadata": {},
     "output_type": "execute_result"
    }
   ],
   "source": [
    "cm = confusion_matrix(y_test, ypred_test)\n",
    "cm"
   ]
  },
  {
   "cell_type": "markdown",
   "id": "6d58560c",
   "metadata": {},
   "source": [
    "## Accuracy"
   ]
  },
  {
   "cell_type": "code",
   "execution_count": 14,
   "id": "dec0ba50",
   "metadata": {},
   "outputs": [
    {
     "name": "stdout",
     "output_type": "stream",
     "text": [
      "Accuracy of training data: 70.10601448514747\n",
      "Accuracy of testing data: 69.7845249755142\n"
     ]
    }
   ],
   "source": [
    "print(\"Accuracy of training data:\", accuracy_score(y_train, ypred_train)*100)\n",
    "ac1 = accuracy_score(y_test, ypred_test)*100\n",
    "print(\"Accuracy of testing data:\", ac1)"
   ]
  },
  {
   "cell_type": "markdown",
   "id": "308add6b",
   "metadata": {},
   "source": [
    "## Classification Report "
   ]
  },
  {
   "cell_type": "code",
   "execution_count": 15,
   "id": "d2dd8ffa",
   "metadata": {},
   "outputs": [
    {
     "name": "stdout",
     "output_type": "stream",
     "text": [
      "              precision    recall  f1-score   support\n",
      "\n",
      "    BARBUNYA       0.64      0.53      0.58       399\n",
      "      BOMBAY       1.00      0.99      0.99       145\n",
      "        CALI       0.73      0.76      0.74       500\n",
      "    DERMASON       0.81      0.88      0.84      1043\n",
      "       HOROZ       0.59      0.56      0.57       585\n",
      "       SEKER       0.69      0.62      0.65       609\n",
      "        SIRA       0.58      0.62      0.60       803\n",
      "\n",
      "    accuracy                           0.70      4084\n",
      "   macro avg       0.72      0.71      0.71      4084\n",
      "weighted avg       0.70      0.70      0.70      4084\n",
      "\n"
     ]
    }
   ],
   "source": [
    "target_names = ['Class']\n",
    "print(classification_report(y_test, ypred_test))"
   ]
  },
  {
   "cell_type": "markdown",
   "id": "4b3a5bee",
   "metadata": {},
   "source": [
    "## Decision Tree"
   ]
  },
  {
   "cell_type": "code",
   "execution_count": 16,
   "id": "d35caf65",
   "metadata": {},
   "outputs": [
    {
     "data": {
      "text/plain": [
       "DecisionTreeClassifier(random_state=42)"
      ]
     },
     "execution_count": 16,
     "metadata": {},
     "output_type": "execute_result"
    }
   ],
   "source": [
    "data = DecisionTreeClassifier(random_state=42)\n",
    "data.fit(x_train, y_train)"
   ]
  },
  {
   "cell_type": "markdown",
   "id": "e540352c",
   "metadata": {},
   "source": [
    "## Prediction"
   ]
  },
  {
   "cell_type": "code",
   "execution_count": 17,
   "id": "ae9699d2",
   "metadata": {},
   "outputs": [],
   "source": [
    "y_pred_train = data.predict(x_train)\n",
    "y_pred_test = data.predict(x_test)"
   ]
  },
  {
   "cell_type": "markdown",
   "id": "3280685a",
   "metadata": {},
   "source": [
    "## Confusion Matrix"
   ]
  },
  {
   "cell_type": "code",
   "execution_count": 18,
   "id": "cf83fc20",
   "metadata": {},
   "outputs": [
    {
     "data": {
      "text/plain": [
       "array([[213,   0, 102,   0,  13,   0,   3],\n",
       "       [  0, 143,   0,   0,   0,   0,   0],\n",
       "       [113,   2, 380,   0,  26,   0,   0],\n",
       "       [  0,   0,   0, 914,  24, 137,  59],\n",
       "       [ 69,   0,  14,   7, 329,  13, 129],\n",
       "       [  0,   0,   3,  41,   9, 375, 116],\n",
       "       [  4,   0,   1,  81, 184,  84, 496]], dtype=int64)"
      ]
     },
     "execution_count": 18,
     "metadata": {},
     "output_type": "execute_result"
    }
   ],
   "source": [
    "cm = np.array(confusion_matrix(ypred_test, y_test))\n",
    "cm"
   ]
  },
  {
   "cell_type": "markdown",
   "id": "18828972",
   "metadata": {},
   "source": [
    "## Accuracy"
   ]
  },
  {
   "cell_type": "code",
   "execution_count": 19,
   "id": "6f6c6aff",
   "metadata": {},
   "outputs": [
    {
     "name": "stdout",
     "output_type": "stream",
     "text": [
      "Accuracy of training data: 70.10601448514747\n",
      "Accuracy of testing data: 69.7845249755142\n"
     ]
    }
   ],
   "source": [
    "print(\"Accuracy of training data:\", accuracy_score(y_train, ypred_train)*100)\n",
    "ac2 = accuracy_score(y_test, ypred_test)*100\n",
    "print(\"Accuracy of testing data:\", ac2)"
   ]
  },
  {
   "cell_type": "markdown",
   "id": "9dd2430d",
   "metadata": {},
   "source": [
    "## Classification Report"
   ]
  },
  {
   "cell_type": "code",
   "execution_count": 20,
   "id": "7e4e5256",
   "metadata": {},
   "outputs": [
    {
     "name": "stdout",
     "output_type": "stream",
     "text": [
      "              precision    recall  f1-score   support\n",
      "\n",
      "    BARBUNYA       0.64      0.53      0.58       399\n",
      "      BOMBAY       1.00      0.99      0.99       145\n",
      "        CALI       0.73      0.76      0.74       500\n",
      "    DERMASON       0.81      0.88      0.84      1043\n",
      "       HOROZ       0.59      0.56      0.57       585\n",
      "       SEKER       0.69      0.62      0.65       609\n",
      "        SIRA       0.58      0.62      0.60       803\n",
      "\n",
      "    accuracy                           0.70      4084\n",
      "   macro avg       0.72      0.71      0.71      4084\n",
      "weighted avg       0.70      0.70      0.70      4084\n",
      "\n"
     ]
    }
   ],
   "source": [
    "print(classification_report(y_test, ypred_test))"
   ]
  },
  {
   "cell_type": "markdown",
   "id": "8cb7151a",
   "metadata": {},
   "source": [
    "## K Nearest Neighbour"
   ]
  },
  {
   "cell_type": "code",
   "execution_count": 21,
   "id": "08ec785f",
   "metadata": {},
   "outputs": [
    {
     "data": {
      "text/plain": [
       "KNeighborsClassifier(n_neighbors=3)"
      ]
     },
     "execution_count": 21,
     "metadata": {},
     "output_type": "execute_result"
    }
   ],
   "source": [
    "knn = KNeighborsClassifier(n_neighbors=3)\n",
    "knn.fit(x_train, y_train)"
   ]
  },
  {
   "cell_type": "markdown",
   "id": "f26078cd",
   "metadata": {},
   "source": [
    "## Prediction"
   ]
  },
  {
   "cell_type": "code",
   "execution_count": 22,
   "id": "acb2f2f2",
   "metadata": {},
   "outputs": [],
   "source": [
    "y_pred_train = knn.predict(x_train)\n",
    "y_pred_test = knn.predict(x_test)"
   ]
  },
  {
   "cell_type": "markdown",
   "id": "4eac6f82",
   "metadata": {},
   "source": [
    "## Confusion Matrix"
   ]
  },
  {
   "cell_type": "code",
   "execution_count": 23,
   "id": "de902470",
   "metadata": {},
   "outputs": [
    {
     "data": {
      "text/plain": [
       "array([[197,   1, 150,   0,  62,   3,  12],\n",
       "       [  0, 144,   0,   0,   0,   0,   0],\n",
       "       [156,   0, 326,   0,  41,   0,   5],\n",
       "       [  0,   0,   0, 923,  17, 108,  98],\n",
       "       [ 35,   0,  22,   4, 378,   8,  62],\n",
       "       [  0,   0,   0,  55,   1, 393,  38],\n",
       "       [ 11,   0,   2,  61,  86,  97, 588]], dtype=int64)"
      ]
     },
     "execution_count": 23,
     "metadata": {},
     "output_type": "execute_result"
    }
   ],
   "source": [
    "cm = np.array(confusion_matrix(y_pred_test, y_test))\n",
    "cm"
   ]
  },
  {
   "cell_type": "markdown",
   "id": "304621e3",
   "metadata": {},
   "source": [
    "## Accuracy"
   ]
  },
  {
   "cell_type": "code",
   "execution_count": 24,
   "id": "30454430",
   "metadata": {},
   "outputs": [
    {
     "name": "stdout",
     "output_type": "stream",
     "text": [
      "Accuracy of training data: 85.04251075889577\n",
      "Accuracy of testing data: 72.20861900097944\n"
     ]
    }
   ],
   "source": [
    "print(\"Accuracy of training data:\", accuracy_score(y_train, y_pred_train)*100)\n",
    "ac3 = accuracy_score(y_test, y_pred_test)*100\n",
    "print(\"Accuracy of testing data:\", ac3)"
   ]
  },
  {
   "cell_type": "markdown",
   "id": "ddcc90f8",
   "metadata": {},
   "source": [
    "## Classification Report "
   ]
  },
  {
   "cell_type": "code",
   "execution_count": 25,
   "id": "12a3ac0f",
   "metadata": {},
   "outputs": [
    {
     "name": "stdout",
     "output_type": "stream",
     "text": [
      "              precision    recall  f1-score   support\n",
      "\n",
      "    BARBUNYA       0.46      0.49      0.48       399\n",
      "      BOMBAY       1.00      0.99      1.00       145\n",
      "        CALI       0.62      0.65      0.63       500\n",
      "    DERMASON       0.81      0.88      0.84      1043\n",
      "       HOROZ       0.74      0.65      0.69       585\n",
      "       SEKER       0.81      0.65      0.72       609\n",
      "        SIRA       0.70      0.73      0.71       803\n",
      "\n",
      "    accuracy                           0.72      4084\n",
      "   macro avg       0.73      0.72      0.72      4084\n",
      "weighted avg       0.73      0.72      0.72      4084\n",
      "\n"
     ]
    }
   ],
   "source": [
    "print(classification_report(y_test, y_pred_test))"
   ]
  },
  {
   "cell_type": "markdown",
   "id": "bb216d28",
   "metadata": {},
   "source": [
    "## Random Forest "
   ]
  },
  {
   "cell_type": "code",
   "execution_count": 26,
   "id": "a0874b7b",
   "metadata": {},
   "outputs": [
    {
     "data": {
      "text/plain": [
       "RandomForestClassifier()"
      ]
     },
     "execution_count": 26,
     "metadata": {},
     "output_type": "execute_result"
    }
   ],
   "source": [
    "rf = RandomForestClassifier()\n",
    "rf.fit(x_train, y_train)"
   ]
  },
  {
   "cell_type": "markdown",
   "id": "f1feb213",
   "metadata": {},
   "source": [
    "## Prediction"
   ]
  },
  {
   "cell_type": "code",
   "execution_count": 27,
   "id": "9ea9b99f",
   "metadata": {},
   "outputs": [],
   "source": [
    "y_pred_train = rf.predict(x_train)\n",
    "y_pred_test = rf.predict(x_test)"
   ]
  },
  {
   "cell_type": "markdown",
   "id": "42f976a0",
   "metadata": {},
   "source": [
    "## Confusion Matrix"
   ]
  },
  {
   "cell_type": "code",
   "execution_count": 28,
   "id": "6549cf48",
   "metadata": {},
   "outputs": [
    {
     "data": {
      "text/plain": [
       "array([[365,   1,  10,   0,   2,   2,   4],\n",
       "       [  0, 144,   0,   0,   0,   0,   0],\n",
       "       [ 23,   0, 478,   0,   9,   0,   2],\n",
       "       [  0,   0,   0, 963,   3,  11,  62],\n",
       "       [  3,   0,   7,   1, 558,   0,  10],\n",
       "       [  3,   0,   0,  22,   0, 576,  13],\n",
       "       [  5,   0,   5,  57,  13,  20, 712]], dtype=int64)"
      ]
     },
     "execution_count": 28,
     "metadata": {},
     "output_type": "execute_result"
    }
   ],
   "source": [
    "cm = np.array(confusion_matrix(y_pred_test, y_test))\n",
    "cm"
   ]
  },
  {
   "cell_type": "markdown",
   "id": "83fe1bb9",
   "metadata": {},
   "source": [
    "## Accuracy "
   ]
  },
  {
   "cell_type": "code",
   "execution_count": 29,
   "id": "140039f9",
   "metadata": {},
   "outputs": [
    {
     "name": "stdout",
     "output_type": "stream",
     "text": [
      "Accuracy of training data: 99.98950351632203\n",
      "Accuracy of testing data: 92.94809010773751\n"
     ]
    }
   ],
   "source": [
    "print(\"Accuracy of training data:\", accuracy_score(y_train, y_pred_train)*100)\n",
    "ac4 = accuracy_score(y_test, y_pred_test)*100\n",
    "print(\"Accuracy of testing data:\", ac4)"
   ]
  },
  {
   "cell_type": "markdown",
   "id": "2aea1d49",
   "metadata": {},
   "source": [
    "## Classification Report "
   ]
  },
  {
   "cell_type": "code",
   "execution_count": 30,
   "id": "988880be",
   "metadata": {},
   "outputs": [
    {
     "name": "stdout",
     "output_type": "stream",
     "text": [
      "              precision    recall  f1-score   support\n",
      "\n",
      "    BARBUNYA       0.95      0.91      0.93       399\n",
      "      BOMBAY       1.00      0.99      1.00       145\n",
      "        CALI       0.93      0.96      0.94       500\n",
      "    DERMASON       0.93      0.92      0.93      1043\n",
      "       HOROZ       0.96      0.95      0.96       585\n",
      "       SEKER       0.94      0.95      0.94       609\n",
      "        SIRA       0.88      0.89      0.88       803\n",
      "\n",
      "    accuracy                           0.93      4084\n",
      "   macro avg       0.94      0.94      0.94      4084\n",
      "weighted avg       0.93      0.93      0.93      4084\n",
      "\n"
     ]
    }
   ],
   "source": [
    "print(classification_report(y_test, y_pred_test))"
   ]
  },
  {
   "cell_type": "markdown",
   "id": "7014e1fb",
   "metadata": {},
   "source": [
    "## Naive Bayes"
   ]
  },
  {
   "cell_type": "code",
   "execution_count": 31,
   "id": "5e248ccb",
   "metadata": {},
   "outputs": [
    {
     "data": {
      "text/plain": [
       "GaussianNB()"
      ]
     },
     "execution_count": 31,
     "metadata": {},
     "output_type": "execute_result"
    }
   ],
   "source": [
    "from sklearn.naive_bayes import GaussianNB\n",
    "cla = GaussianNB()\n",
    "cla.fit(x_train, y_train)"
   ]
  },
  {
   "cell_type": "code",
   "execution_count": 32,
   "id": "9e5157d2",
   "metadata": {},
   "outputs": [],
   "source": [
    "y_pred = cla.predict(x_test)"
   ]
  },
  {
   "cell_type": "code",
   "execution_count": 33,
   "id": "e3b10bc9",
   "metadata": {},
   "outputs": [
    {
     "data": {
      "text/plain": [
       "0.7656709108716944"
      ]
     },
     "execution_count": 33,
     "metadata": {},
     "output_type": "execute_result"
    }
   ],
   "source": [
    "cla.score(x_test,y_test)"
   ]
  },
  {
   "cell_type": "code",
   "execution_count": 34,
   "id": "5b3af1aa",
   "metadata": {},
   "outputs": [
    {
     "name": "stdout",
     "output_type": "stream",
     "text": [
      "[[192   0 158   0  40   0   9]\n",
      " [  0 145   0   0   0   0   0]\n",
      " [ 80   2 398   0  19   0   1]\n",
      " [  0   0   0 875   0 126  42]\n",
      " [ 19   0  33  13 452   0  68]\n",
      " [  2   0   0  83   7 433  84]\n",
      " [  0   0   0  37  72  62 632]]\n"
     ]
    }
   ],
   "source": [
    "cm=confusion_matrix(y_test,y_pred)\n",
    "print(cm)"
   ]
  },
  {
   "cell_type": "markdown",
   "id": "2aa15539",
   "metadata": {},
   "source": [
    "## Support Vector machine"
   ]
  },
  {
   "cell_type": "code",
   "execution_count": 35,
   "id": "2d5622ad",
   "metadata": {},
   "outputs": [],
   "source": [
    "from sklearn.svm import SVC"
   ]
  },
  {
   "cell_type": "code",
   "execution_count": 36,
   "id": "46bf7d51",
   "metadata": {},
   "outputs": [
    {
     "data": {
      "text/plain": [
       "SVC()"
      ]
     },
     "execution_count": 36,
     "metadata": {},
     "output_type": "execute_result"
    }
   ],
   "source": [
    "SVCclf = SVC()\n",
    "SVCclf.fit(x_train, y_train)"
   ]
  },
  {
   "cell_type": "code",
   "execution_count": 37,
   "id": "8af4608a",
   "metadata": {},
   "outputs": [],
   "source": [
    "y_pred = SVCclf.predict(x_test)"
   ]
  },
  {
   "cell_type": "code",
   "execution_count": 38,
   "id": "b84335ee",
   "metadata": {},
   "outputs": [
    {
     "name": "stdout",
     "output_type": "stream",
     "text": [
      "              precision    recall  f1-score   support\n",
      "\n",
      "    BARBUNYA       0.42      0.05      0.09       399\n",
      "      BOMBAY       1.00      0.99      1.00       145\n",
      "        CALI       0.59      0.89      0.71       500\n",
      "    DERMASON       0.76      0.85      0.80      1043\n",
      "       HOROZ       0.60      0.60      0.60       585\n",
      "       SEKER       0.37      0.23      0.29       609\n",
      "        SIRA       0.58      0.73      0.65       803\n",
      "\n",
      "    accuracy                           0.63      4084\n",
      "   macro avg       0.62      0.62      0.59      4084\n",
      "weighted avg       0.60      0.63      0.59      4084\n",
      "\n"
     ]
    }
   ],
   "source": [
    "report=classification_report(y_test,y_pred)\n",
    "print(report)"
   ]
  },
  {
   "cell_type": "code",
   "execution_count": 39,
   "id": "1d347a49",
   "metadata": {},
   "outputs": [
    {
     "data": {
      "text/plain": [
       "0.6305093046033301"
      ]
     },
     "execution_count": 39,
     "metadata": {},
     "output_type": "execute_result"
    }
   ],
   "source": [
    "accuracy_score(y_test, y_pred)"
   ]
  },
  {
   "cell_type": "code",
   "execution_count": 40,
   "id": "3168c05d",
   "metadata": {},
   "outputs": [
    {
     "data": {
      "text/plain": [
       "0.6305093046033301"
      ]
     },
     "execution_count": 40,
     "metadata": {},
     "output_type": "execute_result"
    }
   ],
   "source": [
    "SVCclf.score(x_test,y_test)"
   ]
  },
  {
   "cell_type": "code",
   "execution_count": 41,
   "id": "80702c2f",
   "metadata": {},
   "outputs": [
    {
     "name": "stdout",
     "output_type": "stream",
     "text": [
      "[[ 21   0 270   0 100   0   8]\n",
      " [  0 144   1   0   0   0   0]\n",
      " [ 16   0 444   0  38   0   2]\n",
      " [  0   0   0 885   0 129  29]\n",
      " [ 13   0  34  10 352  14 162]\n",
      " [  0   0   0 228  13 141 227]\n",
      " [  0   0   0  40  81  94 588]]\n"
     ]
    }
   ],
   "source": [
    "cm = confusion_matrix(y_test,y_pred)\n",
    "print(cm)"
   ]
  },
  {
   "cell_type": "code",
   "execution_count": null,
   "id": "1f92a9cc",
   "metadata": {},
   "outputs": [],
   "source": []
  }
 ],
 "metadata": {
  "kernelspec": {
   "display_name": "Python 3 (ipykernel)",
   "language": "python",
   "name": "python3"
  },
  "language_info": {
   "codemirror_mode": {
    "name": "ipython",
    "version": 3
   },
   "file_extension": ".py",
   "mimetype": "text/x-python",
   "name": "python",
   "nbconvert_exporter": "python",
   "pygments_lexer": "ipython3",
   "version": "3.9.12"
  }
 },
 "nbformat": 4,
 "nbformat_minor": 5
}
